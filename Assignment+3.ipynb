{
 "cells": [
  {
   "cell_type": "markdown",
   "metadata": {},
   "source": [
    "---\n",
    "\n",
    "_You are currently looking at **version 1.5** of this notebook. To download notebooks and datafiles, as well as get help on Jupyter notebooks in the Coursera platform, visit the [Jupyter Notebook FAQ](https://www.coursera.org/learn/python-data-analysis/resources/0dhYG) course resource._\n",
    "\n",
    "---"
   ]
  },
  {
   "cell_type": "markdown",
   "metadata": {},
   "source": [
    "# Assignment 3 - More Pandas\n",
    "This assignment requires more individual learning then the last one did - you are encouraged to check out the [pandas documentation](http://pandas.pydata.org/pandas-docs/stable/) to find functions or methods you might not have used yet, or ask questions on [Stack Overflow](http://stackoverflow.com/) and tag them as pandas and python related. And of course, the discussion forums are open for interaction with your peers and the course staff."
   ]
  },
  {
   "cell_type": "markdown",
   "metadata": {},
   "source": [
    "### Question 1 (20%)\n",
    "Load the energy data from the file `Energy Indicators.xls`, which is a list of indicators of [energy supply and renewable electricity production](Energy%20Indicators.xls) from the [United Nations](http://unstats.un.org/unsd/environment/excel_file_tables/2013/Energy%20Indicators.xls) for the year 2013, and should be put into a DataFrame with the variable name of **energy**.\n",
    "\n",
    "Keep in mind that this is an Excel file, and not a comma separated values file. Also, make sure to exclude the footer and header information from the datafile. The first two columns are unneccessary, so you should get rid of them, and you should change the column labels so that the columns are:\n",
    "\n",
    "`['Country', 'Energy Supply', 'Energy Supply per Capita', '% Renewable']`\n",
    "\n",
    "Convert `Energy Supply` to gigajoules (there are 1,000,000 gigajoules in a petajoule). For all countries which have missing data (e.g. data with \"...\") make sure this is reflected as `np.NaN` values.\n",
    "\n",
    "Rename the following list of countries (for use in later questions):\n",
    "\n",
    "```\"Republic of Korea\": \"South Korea\",\n",
    "\"United States of America\": \"United States\",\n",
    "\"United Kingdom of Great Britain and Northern Ireland\": \"United Kingdom\",\n",
    "\"China, Hong Kong Special Administrative Region\": \"Hong Kong\"```\n",
    "\n",
    "There are also several countries with numbers and/or parenthesis in their name. Be sure to remove these, \n",
    "\n",
    "e.g. \n",
    "\n",
    "`'Bolivia (Plurinational State of)'` should be `'Bolivia'`, \n",
    "\n",
    "`'Switzerland17'` should be `'Switzerland'`.\n",
    "\n",
    "<br>\n",
    "\n",
    "Next, load the GDP data from the file `world_bank.csv`, which is a csv containing countries' GDP from 1960 to 2015 from [World Bank](http://data.worldbank.org/indicator/NY.GDP.MKTP.CD). Call this DataFrame **GDP**. \n",
    "\n",
    "Make sure to skip the header, and rename the following list of countries:\n",
    "\n",
    "```\"Korea, Rep.\": \"South Korea\", \n",
    "\"Iran, Islamic Rep.\": \"Iran\",\n",
    "\"Hong Kong SAR, China\": \"Hong Kong\"```\n",
    "\n",
    "<br>\n",
    "\n",
    "Finally, load the [Sciamgo Journal and Country Rank data for Energy Engineering and Power Technology](http://www.scimagojr.com/countryrank.php?category=2102) from the file `scimagojr-3.xlsx`, which ranks countries based on their journal contributions in the aforementioned area. Call this DataFrame **ScimEn**.\n",
    "\n",
    "Join the three datasets: GDP, Energy, and ScimEn into a new dataset (using the intersection of country names). Use only the last 10 years (2006-2015) of GDP data and only the top 15 countries by Scimagojr 'Rank' (Rank 1 through 15). \n",
    "\n",
    "The index of this DataFrame should be the name of the country, and the columns should be ['Rank', 'Documents', 'Citable documents', 'Citations', 'Self-citations',\n",
    "       'Citations per document', 'H index', 'Energy Supply',\n",
    "       'Energy Supply per Capita', '% Renewable', '2006', '2007', '2008',\n",
    "       '2009', '2010', '2011', '2012', '2013', '2014', '2015'].\n",
    "\n",
    "*This function should return a DataFrame with 20 columns and 15 entries.*"
   ]
  },
  {
   "cell_type": "code",
   "execution_count": 1,
   "metadata": {
    "collapsed": true,
    "umich_part_id": "009",
    "umich_partlist_id": "003"
   },
   "outputs": [],
   "source": [
    "def answer_one():\n",
    "    import pandas as pd\n",
    "    import numpy as np\n",
    "    energy = pd.read_excel('Energy Indicators.xls', skiprows=17, skip_footer=38)\n",
    "    energy = energy[['Unnamed: 1', 'Petajoules', 'Gigajoules', '%']]\n",
    "    energy.columns = ['Country', 'Energy Supply', 'Energy Supply per Capita', '% Renewable']\n",
    "    energy = energy.replace('...', np.NaN)\n",
    "    energy['Energy Supply'] = energy['Energy Supply'] * 1000000\n",
    "    energy = energy.replace({\"Republic of Korea\": \"South Korea\",\n",
    "                             \"United States of America\": \"United States\",\n",
    "                             \"United Kingdom of Great Britain and Northern Ireland\": \"United Kingdom\",\n",
    "                             \"China, Hong Kong Special Administrative Region3\": \"Hong Kong\",\n",
    "                             'China, Macao Special Administrative Region4': 'Macao',\n",
    "                             'Bolivia (Plurinational State of)': 'Bolivia',\n",
    "                             'Switzerland17': 'Switzerland',\n",
    "                             'Bonaire, Sint Eustatius and Saba': 'Bonaire',\n",
    "                             'China2': 'China',\n",
    "                             'Australia1': 'Australia',\n",
    "                             'France6': 'France',\n",
    "                             'Iran (Islamic Republic of)': 'Iran',\n",
    "                             'Italy9': 'Italy',\n",
    "                             'Japan10': 'Japan',\n",
    "                             'United Kingdom of Great Britain and Northern Ireland19': 'United Kingdom',\n",
    "                             'United States of America20': 'United States',\n",
    "                             'Spain16': 'Spain'})\n",
    "    energy = energy.set_index('Country')\n",
    "    GDP_cl_ls = ['Country Name', '2006', '2007', '2008',\n",
    "                 '2009', '2010', '2011', '2012', '2013', '2014', '2015']\n",
    "    GDP = pd.read_csv('world_bank.csv',\n",
    "                      header=0,\n",
    "                      skiprows=4,\n",
    "                      usecols=GDP_cl_ls)\n",
    "    GDP = GDP.replace({\"Korea, Rep.\": \"South Korea\",\n",
    "                       \"Iran, Islamic Rep.\": \"Iran\",\n",
    "                       \"Hong Kong SAR, China\": \"Hong Kong\"})\n",
    "    GDP.columns = ['Country', '2006', '2007', '2008', '2009', '2010', '2011', '2012', '2013', '2014', '2015']\n",
    "    GDP = GDP.set_index('Country')\n",
    "\n",
    "    ScimEn = pd.read_excel('scimagojr-3.xlsx', header=0)\n",
    "    ScimEn.reset_index()\n",
    "    ScimEn = ScimEn.set_index('Country')\n",
    "    fm = pd.merge(energy, GDP, how='outer', left_index=True, right_index=True)\n",
    "    df = pd.merge(ScimEn, fm, how='outer', left_index=True, right_index=True)\n",
    "    df = df.reset_index().dropna(thresh=df.shape[1] - 10).set_index('Country')\n",
    "    df = df.loc[df['Rank'] <= 15]\n",
    "    return df"
   ]
  },
  {
   "cell_type": "code",
   "execution_count": 2,
   "metadata": {},
   "outputs": [
    {
     "name": "stdout",
     "output_type": "stream",
     "text": [
      "                    Rank  Documents  Citable documents  Citations  \\\n",
      "Country                                                             \n",
      "Australia           14.0     8831.0             8725.0    90765.0   \n",
      "Brazil              15.0     8668.0             8596.0    60702.0   \n",
      "Canada               6.0    17899.0            17620.0   215003.0   \n",
      "China                1.0   127050.0           126767.0   597237.0   \n",
      "France               9.0    13153.0            12973.0   130632.0   \n",
      "Germany              7.0    17027.0            16831.0   140566.0   \n",
      "India                8.0    15005.0            14841.0   128763.0   \n",
      "Iran                13.0     8896.0             8819.0    57470.0   \n",
      "Italy               11.0    10964.0            10794.0   111850.0   \n",
      "Japan                3.0    30504.0            30287.0   223024.0   \n",
      "Russian Federation   5.0    18534.0            18301.0    34266.0   \n",
      "South Korea         10.0    11983.0            11923.0   114675.0   \n",
      "Spain               12.0     9428.0             9330.0   123336.0   \n",
      "United Kingdom       4.0    20944.0            20357.0   206091.0   \n",
      "United States        2.0    96661.0            94747.0   792274.0   \n",
      "\n",
      "                    Self-citations  Citations per document  H index  \\\n",
      "Country                                                               \n",
      "Australia                  15606.0                   10.28    107.0   \n",
      "Brazil                     14396.0                    7.00     86.0   \n",
      "Canada                     40930.0                   12.01    149.0   \n",
      "China                     411683.0                    4.70    138.0   \n",
      "France                     28601.0                    9.93    114.0   \n",
      "Germany                    27426.0                    8.26    126.0   \n",
      "India                      37209.0                    8.58    115.0   \n",
      "Iran                       19125.0                    6.46     72.0   \n",
      "Italy                      26661.0                   10.20    106.0   \n",
      "Japan                      61554.0                    7.31    134.0   \n",
      "Russian Federation         12422.0                    1.85     57.0   \n",
      "South Korea                22595.0                    9.57    104.0   \n",
      "Spain                      23964.0                   13.08    115.0   \n",
      "United Kingdom             37874.0                    9.84    139.0   \n",
      "United States             265436.0                    8.20    230.0   \n",
      "\n",
      "                    Energy Supply  Energy Supply per Capita  % Renewable  \\\n",
      "Country                                                                    \n",
      "Australia            5.386000e+09                     231.0    11.810810   \n",
      "Brazil               1.214900e+10                      59.0    69.648030   \n",
      "Canada               1.043100e+10                     296.0    61.945430   \n",
      "China                1.271910e+11                      93.0    19.754910   \n",
      "France               1.059700e+10                     166.0    17.020280   \n",
      "Germany              1.326100e+10                     165.0    17.901530   \n",
      "India                3.319500e+10                      26.0    14.969080   \n",
      "Iran                 9.172000e+09                     119.0     5.707721   \n",
      "Italy                6.530000e+09                     109.0    33.667230   \n",
      "Japan                1.898400e+10                     149.0    10.232820   \n",
      "Russian Federation   3.070900e+10                     214.0    17.288680   \n",
      "South Korea          1.100700e+10                     221.0     2.279353   \n",
      "Spain                4.923000e+09                     106.0    37.968590   \n",
      "United Kingdom       7.920000e+09                     124.0    10.600470   \n",
      "United States        9.083800e+10                     286.0    11.570980   \n",
      "\n",
      "                            2006          2007          2008          2009  \\\n",
      "Country                                                                      \n",
      "Australia           1.021939e+12  1.060340e+12  1.099644e+12  1.119654e+12   \n",
      "Brazil              1.845080e+12  1.957118e+12  2.056809e+12  2.054215e+12   \n",
      "Canada              1.564469e+12  1.596740e+12  1.612713e+12  1.565145e+12   \n",
      "China               3.992331e+12  4.559041e+12  4.997775e+12  5.459247e+12   \n",
      "France              2.607840e+12  2.669424e+12  2.674637e+12  2.595967e+12   \n",
      "Germany             3.332891e+12  3.441561e+12  3.478809e+12  3.283340e+12   \n",
      "India               1.265894e+12  1.374865e+12  1.428361e+12  1.549483e+12   \n",
      "Iran                3.895523e+11  4.250646e+11  4.289909e+11  4.389208e+11   \n",
      "Italy               2.202170e+12  2.234627e+12  2.211154e+12  2.089938e+12   \n",
      "Japan               5.496542e+12  5.617036e+12  5.558527e+12  5.251308e+12   \n",
      "Russian Federation  1.385793e+12  1.504071e+12  1.583004e+12  1.459199e+12   \n",
      "South Korea         9.410199e+11  9.924316e+11  1.020510e+12  1.027730e+12   \n",
      "Spain               1.414823e+12  1.468146e+12  1.484530e+12  1.431475e+12   \n",
      "United Kingdom      2.419631e+12  2.482203e+12  2.470614e+12  2.367048e+12   \n",
      "United States       1.479230e+13  1.505540e+13  1.501149e+13  1.459484e+13   \n",
      "\n",
      "                            2010          2011          2012          2013  \\\n",
      "Country                                                                      \n",
      "Australia           1.142251e+12  1.169431e+12  1.211913e+12  1.241484e+12   \n",
      "Brazil              2.208872e+12  2.295245e+12  2.339209e+12  2.409740e+12   \n",
      "Canada              1.613406e+12  1.664087e+12  1.693133e+12  1.730688e+12   \n",
      "China               6.039659e+12  6.612490e+12  7.124978e+12  7.672448e+12   \n",
      "France              2.646995e+12  2.702032e+12  2.706968e+12  2.722567e+12   \n",
      "Germany             3.417298e+12  3.542371e+12  3.556724e+12  3.567317e+12   \n",
      "India               1.708459e+12  1.821872e+12  1.924235e+12  2.051982e+12   \n",
      "Iran                4.677902e+11  4.853309e+11  4.532569e+11  4.445926e+11   \n",
      "Italy               2.125185e+12  2.137439e+12  2.077184e+12  2.040871e+12   \n",
      "Japan               5.498718e+12  5.473738e+12  5.569102e+12  5.644659e+12   \n",
      "Russian Federation  1.524917e+12  1.589943e+12  1.645876e+12  1.666934e+12   \n",
      "South Korea         1.094499e+12  1.134796e+12  1.160809e+12  1.194429e+12   \n",
      "Spain               1.431673e+12  1.417355e+12  1.380216e+12  1.357139e+12   \n",
      "United Kingdom      2.403504e+12  2.450911e+12  2.479809e+12  2.533370e+12   \n",
      "United States       1.496437e+13  1.520402e+13  1.554216e+13  1.577367e+13   \n",
      "\n",
      "                            2014          2015  \n",
      "Country                                         \n",
      "Australia           1.272520e+12  1.301251e+12  \n",
      "Brazil              2.412231e+12  2.319423e+12  \n",
      "Canada              1.773486e+12  1.792609e+12  \n",
      "China               8.230121e+12  8.797999e+12  \n",
      "France              2.729632e+12  2.761185e+12  \n",
      "Germany             3.624386e+12  3.685556e+12  \n",
      "India               2.200617e+12  2.367206e+12  \n",
      "Iran                4.639027e+11           NaN  \n",
      "Italy               2.033868e+12  2.049316e+12  \n",
      "Japan               5.642884e+12  5.669563e+12  \n",
      "Russian Federation  1.678709e+12  1.616149e+12  \n",
      "South Korea         1.234340e+12  1.266580e+12  \n",
      "Spain               1.375605e+12  1.419821e+12  \n",
      "United Kingdom      2.605643e+12  2.666333e+12  \n",
      "United States       1.615662e+13  1.654857e+13  \n"
     ]
    }
   ],
   "source": [
    "print (answer_one())"
   ]
  },
  {
   "cell_type": "markdown",
   "metadata": {},
   "source": [
    "### Question 2 (6.6%)\n",
    "The previous question joined three datasets then reduced this to just the top 15 entries. When you joined the datasets, but before you reduced this to the top 15 items, how many entries did you lose?\n",
    "\n",
    "*This function should return a single number.*"
   ]
  },
  {
   "cell_type": "code",
   "execution_count": 3,
   "metadata": {},
   "outputs": [
    {
     "data": {
      "text/html": [
       "<svg width=\"800\" height=\"300\">\n",
       "  <circle cx=\"150\" cy=\"180\" r=\"80\" fill-opacity=\"0.2\" stroke=\"black\" stroke-width=\"2\" fill=\"blue\" />\n",
       "  <circle cx=\"200\" cy=\"100\" r=\"80\" fill-opacity=\"0.2\" stroke=\"black\" stroke-width=\"2\" fill=\"red\" />\n",
       "  <circle cx=\"100\" cy=\"100\" r=\"80\" fill-opacity=\"0.2\" stroke=\"black\" stroke-width=\"2\" fill=\"green\" />\n",
       "  <line x1=\"150\" y1=\"125\" x2=\"300\" y2=\"150\" stroke=\"black\" stroke-width=\"2\" fill=\"black\" stroke-dasharray=\"5,3\"/>\n",
       "  <text  x=\"300\" y=\"165\" font-family=\"Verdana\" font-size=\"35\">Everything but this!</text>\n",
       "</svg>"
      ],
      "text/plain": [
       "<IPython.core.display.HTML object>"
      ]
     },
     "metadata": {},
     "output_type": "display_data"
    }
   ],
   "source": [
    "%%HTML\n",
    "<svg width=\"800\" height=\"300\">\n",
    "  <circle cx=\"150\" cy=\"180\" r=\"80\" fill-opacity=\"0.2\" stroke=\"black\" stroke-width=\"2\" fill=\"blue\" />\n",
    "  <circle cx=\"200\" cy=\"100\" r=\"80\" fill-opacity=\"0.2\" stroke=\"black\" stroke-width=\"2\" fill=\"red\" />\n",
    "  <circle cx=\"100\" cy=\"100\" r=\"80\" fill-opacity=\"0.2\" stroke=\"black\" stroke-width=\"2\" fill=\"green\" />\n",
    "  <line x1=\"150\" y1=\"125\" x2=\"300\" y2=\"150\" stroke=\"black\" stroke-width=\"2\" fill=\"black\" stroke-dasharray=\"5,3\"/>\n",
    "  <text  x=\"300\" y=\"165\" font-family=\"Verdana\" font-size=\"35\">Everything but this!</text>\n",
    "</svg>"
   ]
  },
  {
   "cell_type": "code",
   "execution_count": 6,
   "metadata": {
    "collapsed": true,
    "umich_part_id": "010",
    "umich_partlist_id": "003"
   },
   "outputs": [],
   "source": [
    "def answer_two():\n",
    "    import pandas as pd\n",
    "    import numpy as np\n",
    "    df = answer_one()\n",
    "    energy = pd.read_excel('Energy Indicators.xls', skiprows=17, skip_footer=38)\n",
    "    energy = energy[['Unnamed: 1', 'Petajoules', 'Gigajoules', '%']]\n",
    "    energy.columns = ['Country', 'Energy Supply', 'Energy Supply per Capita', '% Renewable']\n",
    "    energy = energy.replace('...', np.NaN)\n",
    "    energy['Energy Supply'] = energy['Energy Supply'] * 1000000\n",
    "    energy = energy.replace({\"Republic of Korea\": \"South Korea\",\n",
    "                             \"United States of America\": \"United States\",\n",
    "                             \"United Kingdom of Great Britain and Northern Ireland\": \"United Kingdom\",\n",
    "                             \"China, Hong Kong Special Administrative Region3\": \"Hong Kong\",\n",
    "                             'China, Macao Special Administrative Region4': 'Macao',\n",
    "                             'Bolivia (Plurinational State of)': 'Bolivia',\n",
    "                             'Switzerland17': 'Switzerland',\n",
    "                             'Bonaire, Sint Eustatius and Saba': 'Bonaire',\n",
    "                             'China2': 'China',\n",
    "                             'Australia1': 'Australia',\n",
    "                             'France6': 'France',\n",
    "                             'Iran (Islamic Republic of)': 'Iran',\n",
    "                             'Italy9': 'Italy',\n",
    "                             'Japan10': 'Japan',\n",
    "                             'United Kingdom of Great Britain and Northern Ireland19': 'United Kingdom',\n",
    "                             'United States of America20': 'United States',\n",
    "                             'Spain16': 'Spain'})\n",
    "    energy = energy.set_index('Country')\n",
    "    GDP_cl_ls = ['Country Name', '2006', '2007', '2008',\n",
    "                 '2009', '2010', '2011', '2012', '2013', '2014', '2015']\n",
    "    GDP = pd.read_csv('world_bank.csv',\n",
    "                      header=0,\n",
    "                      skiprows=4,\n",
    "                      usecols=GDP_cl_ls)\n",
    "    GDP = GDP.replace({\"Korea, Rep.\": \"South Korea\",\n",
    "                       \"Iran, Islamic Rep.\": \"Iran\",\n",
    "                       \"Hong Kong SAR, China\": \"Hong Kong\"})\n",
    "    GDP.columns = ['Country', '2006', '2007', '2008', '2009', '2010', '2011', '2012', '2013', '2014', '2015']\n",
    "    GDP = GDP.set_index('Country')\n",
    "\n",
    "    ScimEn = pd.read_excel('scimagojr-3.xlsx', header=0)\n",
    "    ScimEn.reset_index()\n",
    "    ScimEn = ScimEn.set_index('Country')\n",
    "\n",
    "    fm = pd.merge(energy, GDP, how='outer', left_index=True, right_index=True)\n",
    "    df1 = pd.merge(ScimEn, fm, how='outer', left_index=True, right_index=True)\n",
    "    return len(df1)-len(df)"
   ]
  },
  {
   "cell_type": "code",
   "execution_count": 7,
   "metadata": {},
   "outputs": [
    {
     "name": "stdout",
     "output_type": "stream",
     "text": [
      "304\n"
     ]
    }
   ],
   "source": [
    "print(answer_two())"
   ]
  },
  {
   "cell_type": "markdown",
   "metadata": {},
   "source": [
    "## Answer the following questions in the context of only the top 15 countries by Scimagojr Rank (aka the DataFrame returned by `answer_one()`)"
   ]
  },
  {
   "cell_type": "markdown",
   "metadata": {},
   "source": [
    "### Question 3 (6.6%)\n",
    "What is the average GDP over the last 10 years for each country? (exclude missing values from this calculation.)\n",
    "\n",
    "*This function should return a Series named `avgGDP` with 15 countries and their average GDP sorted in descending order.*"
   ]
  },
  {
   "cell_type": "code",
   "execution_count": 8,
   "metadata": {
    "collapsed": true,
    "scrolled": true,
    "umich_part_id": "011",
    "umich_partlist_id": "003"
   },
   "outputs": [],
   "source": [
    "def answer_three():\n",
    "    df = answer_one()\n",
    "    avgGDP = df.iloc[:, 10:20].mean(axis=1, skipna=True)\n",
    "    return avgGDP.sort_values(ascending=False)"
   ]
  },
  {
   "cell_type": "code",
   "execution_count": 9,
   "metadata": {},
   "outputs": [
    {
     "name": "stdout",
     "output_type": "stream",
     "text": [
      "Country\n",
      "United States         1.536434e+13\n",
      "China                 6.348609e+12\n",
      "Japan                 5.542208e+12\n",
      "Germany               3.493025e+12\n",
      "France                2.681725e+12\n",
      "United Kingdom        2.487907e+12\n",
      "Brazil                2.189794e+12\n",
      "Italy                 2.120175e+12\n",
      "India                 1.769297e+12\n",
      "Canada                1.660647e+12\n",
      "Russian Federation    1.565459e+12\n",
      "Spain                 1.418078e+12\n",
      "Australia             1.164043e+12\n",
      "South Korea           1.106715e+12\n",
      "Iran                  4.441558e+11\n",
      "dtype: float64\n"
     ]
    }
   ],
   "source": [
    "print(answer_three())"
   ]
  },
  {
   "cell_type": "markdown",
   "metadata": {},
   "source": [
    "### Question 4 (6.6%)\n",
    "By how much had the GDP changed over the 10 year span for the country with the 6th largest average GDP?\n",
    "\n",
    "*This function should return a single number.*"
   ]
  },
  {
   "cell_type": "code",
   "execution_count": 10,
   "metadata": {
    "collapsed": true,
    "scrolled": true,
    "umich_part_id": "012",
    "umich_partlist_id": "003"
   },
   "outputs": [],
   "source": [
    "def answer_four():\n",
    "    df = answer_one()\n",
    "    avgGDP = df.iloc[:, 10:20].mean(axis=1, skipna=True).sort_values(ascending=False)\n",
    "    return df.loc[avgGDP.index[5], '2015']-df.loc[answer_three().index[5], '2006']"
   ]
  },
  {
   "cell_type": "code",
   "execution_count": 11,
   "metadata": {},
   "outputs": [
    {
     "name": "stdout",
     "output_type": "stream",
     "text": [
      "246702696075.0\n"
     ]
    }
   ],
   "source": [
    "print(answer_four())"
   ]
  },
  {
   "cell_type": "markdown",
   "metadata": {},
   "source": [
    "### Question 5 (6.6%)\n",
    "What is the mean `Energy Supply per Capita`?\n",
    "\n",
    "*This function should return a single number.*"
   ]
  },
  {
   "cell_type": "code",
   "execution_count": 14,
   "metadata": {
    "collapsed": true,
    "umich_part_id": "013",
    "umich_partlist_id": "003"
   },
   "outputs": [],
   "source": [
    "def answer_five():\n",
    "    df = answer_one()\n",
    "    return df.loc[:, 'Energy Supply per Capita'].mean()"
   ]
  },
  {
   "cell_type": "code",
   "execution_count": 15,
   "metadata": {},
   "outputs": [
    {
     "name": "stdout",
     "output_type": "stream",
     "text": [
      "157.6\n"
     ]
    }
   ],
   "source": [
    "print(answer_five())"
   ]
  },
  {
   "cell_type": "markdown",
   "metadata": {},
   "source": [
    "### Question 6 (6.6%)\n",
    "What country has the maximum % Renewable and what is the percentage?\n",
    "\n",
    "*This function should return a tuple with the name of the country and the percentage.*"
   ]
  },
  {
   "cell_type": "code",
   "execution_count": 16,
   "metadata": {
    "collapsed": true,
    "umich_part_id": "014",
    "umich_partlist_id": "003"
   },
   "outputs": [],
   "source": [
    "def answer_six():\n",
    "    df = answer_one()\n",
    "    return df['% Renewable'].idxmax(axis=1), df['% Renewable'].max()"
   ]
  },
  {
   "cell_type": "code",
   "execution_count": 17,
   "metadata": {},
   "outputs": [
    {
     "name": "stdout",
     "output_type": "stream",
     "text": [
      "('Brazil', 69.648030000000006)\n"
     ]
    }
   ],
   "source": [
    "print(answer_six())"
   ]
  },
  {
   "cell_type": "markdown",
   "metadata": {},
   "source": [
    "### Question 7 (6.6%)\n",
    "Create a new column that is the ratio of Self-Citations to Total Citations. \n",
    "What is the maximum value for this new column, and what country has the highest ratio?\n",
    "\n",
    "*This function should return a tuple with the name of the country and the ratio.*"
   ]
  },
  {
   "cell_type": "code",
   "execution_count": 18,
   "metadata": {
    "collapsed": true,
    "umich_part_id": "015",
    "umich_partlist_id": "003"
   },
   "outputs": [],
   "source": [
    "def answer_seven():\n",
    "    df = answer_one()\n",
    "    df['ratio'] = df['Self-citations']/df['Citations']\n",
    "    return df.ratio.idxmax(axis=1), df.ratio.max()"
   ]
  },
  {
   "cell_type": "code",
   "execution_count": 19,
   "metadata": {},
   "outputs": [
    {
     "name": "stdout",
     "output_type": "stream",
     "text": [
      "('China', 0.68931261793894216)\n"
     ]
    }
   ],
   "source": [
    "print(answer_seven())"
   ]
  },
  {
   "cell_type": "markdown",
   "metadata": {},
   "source": [
    "### Question 8 (6.6%)\n",
    "\n",
    "Create a column that estimates the population using Energy Supply and Energy Supply per capita. \n",
    "What is the third most populous country according to this estimate?\n",
    "\n",
    "*This function should return a single string value.*"
   ]
  },
  {
   "cell_type": "code",
   "execution_count": 20,
   "metadata": {
    "collapsed": true,
    "umich_part_id": "016",
    "umich_partlist_id": "003"
   },
   "outputs": [],
   "source": [
    "def answer_eight():\n",
    "    df = answer_one()\n",
    "    df['PopEst'] = df['Energy Supply']/df['Energy Supply per Capita']\n",
    "    return df.PopEst.sort_values(ascending=False).index[2]"
   ]
  },
  {
   "cell_type": "code",
   "execution_count": 21,
   "metadata": {},
   "outputs": [
    {
     "name": "stdout",
     "output_type": "stream",
     "text": [
      "United States\n"
     ]
    }
   ],
   "source": [
    "print(answer_eight())"
   ]
  },
  {
   "cell_type": "markdown",
   "metadata": {},
   "source": [
    "### Question 9 (6.6%)\n",
    "Create a column that estimates the number of citable documents per person. \n",
    "What is the correlation between the number of citable documents per capita and the energy supply per capita? Use the `.corr()` method, (Pearson's correlation).\n",
    "\n",
    "*This function should return a single number.*\n",
    "\n",
    "*(Optional: Use the built-in function `plot9()` to visualize the relationship between Energy Supply per Capita vs. Citable docs per Capita)*"
   ]
  },
  {
   "cell_type": "code",
   "execution_count": 22,
   "metadata": {
    "collapsed": true,
    "umich_part_id": "017",
    "umich_partlist_id": "003"
   },
   "outputs": [],
   "source": [
    "def answer_nine():\n",
    "    df = answer_one()\n",
    "    df['PopEst'] = df['Energy Supply'] / df['Energy Supply per Capita']\n",
    "    df['citable documents per capita'] = df['Citable documents']/df['PopEst']\n",
    "    return df['citable documents per capita'].corr(df['Energy Supply per Capita'], method ='pearson')"
   ]
  },
  {
   "cell_type": "code",
   "execution_count": 23,
   "metadata": {},
   "outputs": [
    {
     "name": "stdout",
     "output_type": "stream",
     "text": [
      "0.794001043544\n"
     ]
    }
   ],
   "source": [
    "print(answer_nine())"
   ]
  },
  {
   "cell_type": "code",
   "execution_count": 24,
   "metadata": {
    "collapsed": true
   },
   "outputs": [],
   "source": [
    "def plot9():\n",
    "    import matplotlib as plt\n",
    "    %matplotlib inline\n",
    "    \n",
    "    Top15 = answer_one()\n",
    "    Top15['PopEst'] = Top15['Energy Supply'] / Top15['Energy Supply per Capita']\n",
    "    Top15['Citable docs per Capita'] = Top15['Citable documents'] / Top15['PopEst']\n",
    "    Top15.plot(x='Citable docs per Capita', y='Energy Supply per Capita', kind='scatter', xlim=[0, 0.0006])"
   ]
  },
  {
   "cell_type": "code",
   "execution_count": 25,
   "metadata": {},
   "outputs": [
    {
     "data": {
      "image/png": "[encoded data removed]",
      "text/plain": [
       "<matplotlib.figure.Figure at 0x7fda4b959a20>"
      ]
     },
     "metadata": {},
     "output_type": "display_data"
    }
   ],
   "source": [
    "plot9() # Be sure to comment out plot9() before submitting the assignment!"
   ]
  },
  {
   "cell_type": "markdown",
   "metadata": {},
   "source": [
    "### Question 10 (6.6%)\n",
    "Create a new column with a 1 if the country's % Renewable value is at or above the median for all countries in the top 15, and a 0 if the country's % Renewable value is below the median.\n",
    "\n",
    "*This function should return a series named `HighRenew` whose index is the country name sorted in ascending order of rank.*"
   ]
  },
  {
   "cell_type": "code",
   "execution_count": 26,
   "metadata": {
    "collapsed": true,
    "umich_part_id": "018",
    "umich_partlist_id": "003"
   },
   "outputs": [],
   "source": [
    "def answer_ten():\n",
    "    df = answer_one()\n",
    "    df['HighRenew'] = (df['% Renewable'] > df['% Renewable'].median()) * 1\n",
    "    return df['HighRenew'].sort_values(ascending=True)"
   ]
  },
  {
   "cell_type": "code",
   "execution_count": 27,
   "metadata": {},
   "outputs": [
    {
     "name": "stdout",
     "output_type": "stream",
     "text": [
      "Country\n",
      "Australia             0\n",
      "France                0\n",
      "India                 0\n",
      "Iran                  0\n",
      "Japan                 0\n",
      "South Korea           0\n",
      "United Kingdom        0\n",
      "United States         0\n",
      "Brazil                1\n",
      "Canada                1\n",
      "China                 1\n",
      "Germany               1\n",
      "Italy                 1\n",
      "Russian Federation    1\n",
      "Spain                 1\n",
      "Name: HighRenew, dtype: int64\n"
     ]
    }
   ],
   "source": [
    "print(answer_ten())"
   ]
  },
  {
   "cell_type": "markdown",
   "metadata": {},
   "source": [
    "### Question 11 (6.6%)\n",
    "Use the following dictionary to group the Countries by Continent, then create a dateframe that displays the sample size (the number of countries in each continent bin), and the sum, mean, and std deviation for the estimated population of each country.\n",
    "\n",
    "```python\n",
    "ContinentDict  = {'China':'Asia', \n",
    "                  'United States':'North America', \n",
    "                  'Japan':'Asia', \n",
    "                  'United Kingdom':'Europe', \n",
    "                  'Russian Federation':'Europe', \n",
    "                  'Canada':'North America', \n",
    "                  'Germany':'Europe', \n",
    "                  'India':'Asia',\n",
    "                  'France':'Europe', \n",
    "                  'South Korea':'Asia', \n",
    "                  'Italy':'Europe', \n",
    "                  'Spain':'Europe', \n",
    "                  'Iran':'Asia',\n",
    "                  'Australia':'Australia', \n",
    "                  'Brazil':'South America'}\n",
    "```\n",
    "\n",
    "*This function should return a DataFrame with index named Continent `['Asia', 'Australia', 'Europe', 'North America', 'South America']` and columns `['size', 'sum', 'mean', 'std']`*"
   ]
  },
  {
   "cell_type": "code",
   "execution_count": 28,
   "metadata": {
    "collapsed": true,
    "umich_part_id": "019",
    "umich_partlist_id": "003"
   },
   "outputs": [],
   "source": [
    "def answer_eleven():\n",
    "    import pandas as pd\n",
    "    df = answer_one()\n",
    "    ContinentDict = {'China': 'Asia',\n",
    "                     'United States': 'North America',\n",
    "                     'Japan': 'Asia',\n",
    "                     'United Kingdom': 'Europe',\n",
    "                     'Russian Federation': 'Europe',\n",
    "                     'Canada': 'North America',\n",
    "                     'Germany': 'Europe',\n",
    "                     'India': 'Asia',\n",
    "                     'France': 'Europe',\n",
    "                     'South Korea': 'Asia',\n",
    "                     'Italy': 'Europe',\n",
    "                     'Spain': 'Europe',\n",
    "                     'Iran': 'Asia',\n",
    "                     'Australia': 'Australia',\n",
    "                     'Brazil': 'South America'}\n",
    "    df['PopEst'] = df['Energy Supply'] / df['Energy Supply per Capita']\n",
    "    df['Continent'] = pd.Series(ContinentDict)\n",
    "    pc = pd.DataFrame(df.groupby('Continent')['PopEst'].size())\n",
    "    pc = pc.rename(columns={'PopEst': 'size'})\n",
    "    pc['sum'] = pd.DataFrame(df.groupby('Continent')['PopEst'].sum())\n",
    "    pc['mean'] = pd.DataFrame(df.groupby('Continent')['PopEst'].mean())\n",
    "    pc['std'] = pd.DataFrame(df.groupby('Continent')['PopEst'].std())\n",
    "    return pc"
   ]
  },
  {
   "cell_type": "code",
   "execution_count": 29,
   "metadata": {},
   "outputs": [
    {
     "name": "stdout",
     "output_type": "stream",
     "text": [
      "               0           sum          mean           std\n",
      "Continent                                                 \n",
      "Asia           5  2.898666e+09  5.797333e+08  6.790979e+08\n",
      "Australia      1  2.331602e+07  2.331602e+07           NaN\n",
      "Europe         6  4.579297e+08  7.632161e+07  3.464767e+07\n",
      "North America  2  3.528552e+08  1.764276e+08  1.996696e+08\n",
      "South America  1  2.059153e+08  2.059153e+08           NaN\n"
     ]
    }
   ],
   "source": [
    "print(answer_eleven())"
   ]
  },
  {
   "cell_type": "markdown",
   "metadata": {},
   "source": [
    "### Question 12 (6.6%)\n",
    "Cut % Renewable into 5 bins. Group Top15 by the Continent, as well as these new % Renewable bins. How many countries are in each of these groups?\n",
    "\n",
    "*This function should return a __Series__ with a MultiIndex of `Continent`, then the bins for `% Renewable`. Do not include groups with no countries.*"
   ]
  },
  {
   "cell_type": "code",
   "execution_count": 30,
   "metadata": {
    "collapsed": true,
    "scrolled": true
   },
   "outputs": [],
   "source": [
    "def answer_twelve():\n",
    "    import pandas as pd\n",
    "    df = answer_one()\n",
    "    ContinentDict = {'China': 'Asia',\n",
    "                     'United States': 'North America',\n",
    "                     'Japan': 'Asia',\n",
    "                     'United Kingdom': 'Europe',\n",
    "                     'Russian Federation': 'Europe',\n",
    "                     'Canada': 'North America',\n",
    "                     'Germany': 'Europe',\n",
    "                     'India': 'Asia',\n",
    "                     'France': 'Europe',\n",
    "                     'South Korea': 'Asia',\n",
    "                     'Italy': 'Europe',\n",
    "                     'Spain': 'Europe',\n",
    "                     'Iran': 'Asia',\n",
    "                     'Australia': 'Australia',\n",
    "                     'Brazil': 'South America'}\n",
    "    df[\"bins\"] = pd.cut(df[\"% Renewable\"], 5)\n",
    "    return df.groupby([ContinentDict, df['bins']]).size()"
   ]
  },
  {
   "cell_type": "code",
   "execution_count": 31,
   "metadata": {},
   "outputs": [
    {
     "name": "stdout",
     "output_type": "stream",
     "text": [
      "               bins            \n",
      "Asia           (2.212, 15.753]     4\n",
      "               (15.753, 29.227]    1\n",
      "Australia      (2.212, 15.753]     1\n",
      "Europe         (2.212, 15.753]     1\n",
      "               (15.753, 29.227]    3\n",
      "               (29.227, 42.701]    2\n",
      "North America  (2.212, 15.753]     1\n",
      "               (56.174, 69.648]    1\n",
      "South America  (56.174, 69.648]    1\n",
      "dtype: int64\n"
     ]
    }
   ],
   "source": [
    "print(answer_twelve())"
   ]
  },
  {
   "cell_type": "markdown",
   "metadata": {},
   "source": [
    "### Question 13 (6.6%)\n",
    "Convert the Population Estimate series to a string with thousands separator (using commas). Do not round the results.\n",
    "\n",
    "e.g. 317615384.61538464 -> 317,615,384.61538464\n",
    "\n",
    "*This function should return a Series `PopEst` whose index is the country name and whose values are the population estimate string.*"
   ]
  },
  {
   "cell_type": "code",
   "execution_count": 32,
   "metadata": {
    "collapsed": true,
    "scrolled": true,
    "umich_part_id": "020",
    "umich_partlist_id": "003"
   },
   "outputs": [],
   "source": [
    "def answer_thirteen():\n",
    "    df = answer_one()\n",
    "    df['PopEst'] = df['Energy Supply'] / df['Energy Supply per Capita']\n",
    "    return df.PopEst.map('{:,}'.format)"
   ]
  },
  {
   "cell_type": "code",
   "execution_count": 33,
   "metadata": {},
   "outputs": [
    {
     "name": "stdout",
     "output_type": "stream",
     "text": [
      "Country\n",
      "Australia              23,316,017.316017315\n",
      "Brazil                 205,915,254.23728815\n",
      "Canada                  35,239,864.86486486\n",
      "China                 1,367,645,161.2903225\n",
      "France                  63,837,349.39759036\n",
      "Germany                 80,369,696.96969697\n",
      "India                 1,276,730,769.2307692\n",
      "Iran                    77,075,630.25210084\n",
      "Italy                  59,908,256.880733944\n",
      "Japan                  127,409,395.97315437\n",
      "Russian Federation            143,500,000.0\n",
      "South Korea            49,805,429.864253394\n",
      "Spain                    46,443,396.2264151\n",
      "United Kingdom         63,870,967.741935484\n",
      "United States          317,615,384.61538464\n",
      "Name: PopEst, dtype: object\n"
     ]
    }
   ],
   "source": [
    "print(answer_thirteen())"
   ]
  },
  {
   "cell_type": "markdown",
   "metadata": {},
   "source": [
    "### Optional\n",
    "\n",
    "Use the built in function `plot_optional()` to see an example visualization."
   ]
  },
  {
   "cell_type": "code",
   "execution_count": null,
   "metadata": {
    "collapsed": true,
    "scrolled": true
   },
   "outputs": [],
   "source": [
    "def plot_optional():\n",
    "    import matplotlib as plt\n",
    "    %matplotlib inline\n",
    "    Top15 = answer_one()\n",
    "    ax = Top15.plot(x='Rank', y='% Renewable', kind='scatter', \n",
    "                    c=['#e41a1c','#377eb8','#e41a1c','#4daf4a','#4daf4a','#377eb8','#4daf4a','#e41a1c',\n",
    "                       '#4daf4a','#e41a1c','#4daf4a','#4daf4a','#e41a1c','#dede00','#ff7f00'], \n",
    "                    xticks=range(1,16), s=6*Top15['2014']/10**10, alpha=.75, figsize=[16,6]);\n",
    "\n",
    "    for i, txt in enumerate(Top15.index):\n",
    "        ax.annotate(txt, [Top15['Rank'][i], Top15['% Renewable'][i]], ha='center')\n",
    "\n",
    "    print(\"This is an example of a visualization that can be created to help understand the data. \\\n",
    "This is a bubble chart showing % Renewable vs. Rank. The size of the bubble corresponds to the countries' \\\n",
    "2014 GDP, and the color corresponds to the continent.\")"
   ]
  },
  {
   "cell_type": "code",
   "execution_count": null,
   "metadata": {
    "collapsed": true
   },
   "outputs": [],
   "source": [
    "plot_optional() # Be sure to comment out plot_optional() before submitting the assignment!"
   ]
  },
  {
   "cell_type": "code",
   "execution_count": null,
   "metadata": {
    "collapsed": true
   },
   "outputs": [],
   "source": []
  }
 ],
 "metadata": {
  "anaconda-cloud": {},
  "coursera": {
   "course_slug": "python-data-analysis",
   "graded_item_id": "zAr06",
   "launcher_item_id": "KSSjT",
   "part_id": "SL3fU"
  },
  "kernelspec": {
   "display_name": "Python 3",
   "language": "python",
   "name": "python3"
  },
  "language_info": {
   "codemirror_mode": {
    "name": "ipython",
    "version": 3
   },
   "file_extension": ".py",
   "mimetype": "text/x-python",
   "name": "python",
   "nbconvert_exporter": "python",
   "pygments_lexer": "ipython3",
   "version": "3.6.2"
  },
  "umich": {
   "id": "Assignment 3",
   "version": "1.5"
  }
 },
 "nbformat": 4,
 "nbformat_minor": 1
}
