{
 "cells": [
  {
   "cell_type": "markdown",
   "metadata": {},
   "source": [
    "# Programming Assignment: Выбор семейства распределений в наивном байесе#"
   ]
  },
  {
   "cell_type": "markdown",
   "metadata": {},
   "source": [
    "Загрузите датасеты digits и breast_cancer из sklearn.datasets. Выведите несколько строчек из обучающих выборок и посмотрите на признаки."
   ]
  },
  {
   "cell_type": "code",
   "execution_count": 1,
   "metadata": {},
   "outputs": [
    {
     "name": "stdout",
     "output_type": "stream",
     "text": [
      "Breast_cencer data:\n",
      "Data: [[1.799e+01 1.038e+01 1.228e+02 1.001e+03 1.184e-01]\n",
      " [2.057e+01 1.777e+01 1.329e+02 1.326e+03 8.474e-02]\n",
      " [1.969e+01 2.125e+01 1.300e+02 1.203e+03 1.096e-01]\n",
      " [1.142e+01 2.038e+01 7.758e+01 3.861e+02 1.425e-01]\n",
      " [2.029e+01 1.434e+01 1.351e+02 1.297e+03 1.003e-01]]\n",
      "Target: [0 0 0 0 0]\n",
      "Digits data:\n",
      "Data: [[ 0.  0.  5. 13.  9.]\n",
      " [ 0.  0.  0. 12. 13.]\n",
      " [ 0.  0.  0.  4. 15.]\n",
      " [ 0.  0.  7. 15. 13.]\n",
      " [ 0.  0.  0.  1. 11.]]\n",
      "Target: [0 1 2 3 4]\n"
     ]
    }
   ],
   "source": [
    "from sklearn import model_selection, datasets, naive_bayes\n",
    "\n",
    "can = datasets.load_breast_cancer()\n",
    "dg = datasets.load_digits()\n",
    "\n",
    "print('Breast_cencer data:')\n",
    "print('Data:', can.data[:5,:5])\n",
    "print('Target:', can.target[:5])\n",
    "\n",
    "print('Digits data:')\n",
    "print('Data:', dg.data[:5,:5])\n",
    "print('Target:', dg.target[:5])"
   ]
  },
  {
   "cell_type": "markdown",
   "metadata": {},
   "source": [
    "С помощью sklearn.cross_validation.cross_val_score c настройками по умолчанию и вызова метода mean() у возвращаемого этой функцией numpy.ndarray, сравните качество работы наивных байесовских классификаторов на этих двух датасетах. Для сравнения предлагается использовать BernoulliNB, MultinomialNB и GaussianNB."
   ]
  },
  {
   "cell_type": "markdown",
   "metadata": {},
   "source": [
    "__BernoulliNB__"
   ]
  },
  {
   "cell_type": "code",
   "execution_count": 2,
   "metadata": {},
   "outputs": [
    {
     "name": "stdout",
     "output_type": "stream",
     "text": [
      "Scorer (Breast_cencer): 0.6274181\n",
      "Scorer (Digits): 0.82417363\n"
     ]
    }
   ],
   "source": [
    "clf = naive_bayes.BernoulliNB()\n",
    "clf.fit(can.data, can.target)\n",
    "print('Scorer (Breast_cencer):', round(model_selection.cross_val_score(clf, can.data, can.target).mean(),8))\n",
    "clf.fit(dg.data, dg.target)\n",
    "print('Scorer (Digits):', round(model_selection.cross_val_score(clf, dg.data, dg.target).mean(),8))"
   ]
  },
  {
   "cell_type": "markdown",
   "metadata": {},
   "source": [
    "__MultinomialNB__"
   ]
  },
  {
   "cell_type": "code",
   "execution_count": 3,
   "metadata": {},
   "outputs": [
    {
     "name": "stdout",
     "output_type": "stream",
     "text": [
      "Scorer (Breast_cencer): 0.89632045\n",
      "Scorer (Digits): 0.87034974\n"
     ]
    }
   ],
   "source": [
    "clf = naive_bayes.MultinomialNB()\n",
    "clf.fit(can.data, can.target)\n",
    "print('Scorer (Breast_cencer):', round(model_selection.cross_val_score(clf, can.data, can.target).mean(),8))\n",
    "clf.fit(dg.data, dg.target)\n",
    "print('Scorer (Digits):', round(model_selection.cross_val_score(clf, dg.data, dg.target).mean(),8))"
   ]
  },
  {
   "cell_type": "markdown",
   "metadata": {},
   "source": [
    "__GaussianNB__"
   ]
  },
  {
   "cell_type": "code",
   "execution_count": 4,
   "metadata": {},
   "outputs": [
    {
     "name": "stdout",
     "output_type": "stream",
     "text": [
      "Scorer (Breast_cencer): 0.93851886\n",
      "Scorer (Digits): 0.8069282\n"
     ]
    }
   ],
   "source": [
    "clf = naive_bayes.GaussianNB()\n",
    "clf.fit(can.data, can.target)\n",
    "print('Scorer (Breast_cencer):', round(model_selection.cross_val_score(clf, can.data, can.target).mean(),8))\n",
    "clf.fit(dg.data, dg.target)\n",
    "print('Scorer (Digits):', round(model_selection.cross_val_score(clf, dg.data, dg.target).mean(),8))"
   ]
  },
  {
   "cell_type": "markdown",
   "metadata": {},
   "source": [
    "__Вопрос 1__\n",
    "\n",
    "Каким получилось максимальное качество классификации на датасете breast_cancer?"
   ]
  },
  {
   "cell_type": "markdown",
   "metadata": {},
   "source": [
    "0.93851886"
   ]
  },
  {
   "cell_type": "markdown",
   "metadata": {},
   "source": [
    "__Вопрос 2__\n",
    "\n",
    "Каким получилось максимальное качество классификации на датасете digits?"
   ]
  },
  {
   "cell_type": "markdown",
   "metadata": {},
   "source": [
    "0.87034974"
   ]
  },
  {
   "cell_type": "markdown",
   "metadata": {},
   "source": [
    "Вопрос 3\n",
    "\n",
    "Выберите верные утверждения и запишите их номера через пробел (в порядке возрастания номера):\n",
    "\n",
    "1) На вещественных признаках лучше всего сработал наивный байесовский классификатор с распределением Бернулли\n",
    "\n",
    "2) На вещественных признаках лучше всего сработал наивный байесовский классификатор с мультиномиальным распределением\n",
    "\n",
    "__3) Мультиномиальное распределение лучше показало себя на выборке с целыми неотрицательными значениями признаков__\n",
    "\n",
    "__4) На вещественных признаках лучше всего сработало нормальное распределение__"
   ]
  },
  {
   "cell_type": "markdown",
   "metadata": {},
   "source": [
    "3 4"
   ]
  }
 ],
 "metadata": {
  "kernelspec": {
   "display_name": "Python 3",
   "language": "python",
   "name": "python3"
  },
  "language_info": {
   "codemirror_mode": {
    "name": "ipython",
    "version": 3
   },
   "file_extension": ".py",
   "mimetype": "text/x-python",
   "name": "python",
   "nbconvert_exporter": "python",
   "pygments_lexer": "ipython3",
   "version": "3.7.6"
  }
 },
 "nbformat": 4,
 "nbformat_minor": 4
}
